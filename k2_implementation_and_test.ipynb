{
 "cells": [
  {
   "cell_type": "markdown",
   "metadata": {},
   "source": [
    "# **Learning the topology of a Bayesian Network from a database of cases using the K2 algorithm**\n",
    "### *Course:* Advanced Statistics for Physics Analysis, University of Padua, A.Y. 2021/22\n",
    "### *Students:* Francesco Pio Barone, Gianmarco Nagaro Quiroz, Daniele Ninni\n",
    "***\n",
    "## **Table of Contents**\n",
    "1) [**Implementation of the K2 algorithm**](#sec1)\n",
    "    - 1.A [$\\texttt{k2}$](#sec1.A)\n",
    "    - 1.B [$\\texttt{f}$](#sec1.B)\n",
    "    - 1.C [$\\texttt{log.f}$](#sec1.C)\n",
    "    - 1.D [$\\texttt{k2.iter}$](#sec1.D)\n",
    "2) [**Test of the implementation**](#sec2)\n",
    "    - 2.A [*CH93*](#sec2.A)\n",
    "    - 2.B [*ASIA*](#sec2.B)\n",
    "    - 2.C [*SACHS*](#sec2.C)\n",
    "    - 2.D [*CHILD*](#sec2.D)\n",
    "***"
   ]
  },
  {
   "cell_type": "code",
   "execution_count": 1,
   "metadata": {
    "vscode": {
     "languageId": "r"
    }
   },
   "outputs": [],
   "source": [
    "# load packages\n",
    "library(tidyverse) |> suppressPackageStartupMessages()\n",
    "library(bnlearn)   |> suppressPackageStartupMessages()\n",
    "library(Rgraphviz) |> suppressPackageStartupMessages()"
   ]
  },
  {
   "cell_type": "markdown",
   "metadata": {},
   "source": [
    "<a id='sec1'></a>\n",
    "## **1** - Implementation of the K2 algorithm"
   ]
  },
  {
   "cell_type": "markdown",
   "metadata": {},
   "source": [
    "<a id='sec1.A'></a>\n",
    "### **1.A** $\\texttt{k2}$"
   ]
  },
  {
   "cell_type": "code",
   "execution_count": 2,
   "metadata": {
    "vscode": {
     "languageId": "r"
    }
   },
   "outputs": [],
   "source": [
    "k2 <- function(dataset, parents.nmax, f) {\n",
    "\n",
    "        nodes   <- names(dataset)           # node names\n",
    "        net.dag <- empty.graph(nodes=nodes) # network DAG (Directed Acyclic Graph)\n",
    "\n",
    "        for (i in 2:length(nodes)) {\n",
    "\n",
    "            node           <- nodes[i]                  # current node\n",
    "            previous.nodes <- nodes[1:(i-1)]            # nodes that precede the current node\n",
    "            parents        <- c()                       # parents of the current node\n",
    "            P_old          <- f(node, parents, dataset) # old probability\n",
    "            proceed        <- T\n",
    "            \n",
    "            while (proceed & (length(parents) < parents.nmax)) {\n",
    "\n",
    "                candidates <- setdiff(previous.nodes, parents) # candidate parents of the current node \n",
    "                P_new      <- P_old                            # new probability\n",
    "\n",
    "                for (candidate in candidates) {\n",
    "\n",
    "                    candidate.score <- f(node, c(parents, candidate), dataset) # candidate parent score\n",
    "\n",
    "                    if (candidate.score > P_new) {\n",
    "\n",
    "                        candidates.best <- candidate       # best candidate parent\n",
    "                        P_new           <- candidate.score\n",
    "\n",
    "                    }\n",
    "\n",
    "                }\n",
    "\n",
    "                if (P_new > P_old) {\n",
    "\n",
    "                    P_old   <- P_new\n",
    "                    parents <- c(parents, candidates.best)\n",
    "                    net.dag <- set.arc(net.dag, from=candidates.best, to=node)\n",
    "\n",
    "                } else {\n",
    "\n",
    "                    proceed <- F\n",
    "\n",
    "                }\n",
    "\n",
    "            }\n",
    "\n",
    "        }\n",
    "\n",
    "        net.score <- score(net.dag, dataset |> mutate_all(as_factor) |> as.data.frame()) # network score\n",
    "\n",
    "        return(list('dag'=net.dag, 'score'=net.score))\n",
    "\n",
    "}"
   ]
  },
  {
   "cell_type": "markdown",
   "metadata": {},
   "source": [
    "<a id='sec1.B'></a>\n",
    "### **1.B** $\\texttt{f}$"
   ]
  },
  {
   "cell_type": "markdown",
   "metadata": {},
   "source": [
    "$$\n",
    "f(i, \\pi_i) = \\prod_{j=1}^{q_i} \\frac{(r_i - 1)! \\prod_{k=1}^{r_i} \\alpha_{ijk}!}{(N_{ij} + r_i - 1)!} = \\prod_{j=1}^{q_i} f_j\n",
    "$$"
   ]
  },
  {
   "cell_type": "code",
   "execution_count": 3,
   "metadata": {
    "vscode": {
     "languageId": "r"
    }
   },
   "outputs": [],
   "source": [
    "f <- function(node, parents, dataset) {\n",
    "\n",
    "    node.nunique <- dataset[node] |>\n",
    "                        unique() |>\n",
    "                        nrow()\n",
    "\n",
    "    contingency_table <- dataset[c(node, parents)] |>\n",
    "                            table() |>\n",
    "                            as.data.frame() |>\n",
    "                            as_tibble() |>\n",
    "                            filter(Freq > 0)\n",
    "\n",
    "    numerator <- contingency_table |>\n",
    "                    mutate(Freq = factorial(Freq)) |>\n",
    "                    group_by_at(parents) |>\n",
    "                    summarise(Freq = prod(Freq), .groups='drop_last') |>\n",
    "                    mutate(Freq = (Freq * factorial(node.nunique - 1))) |>\n",
    "                    ungroup() |>\n",
    "                    select(Freq) |>\n",
    "                    deframe()\n",
    "\n",
    "    denominator <- contingency_table |>\n",
    "                    group_by_at(parents) |>\n",
    "                    summarise(Freq = sum(Freq), .groups='drop_last') |>\n",
    "                    mutate(Freq = factorial(Freq + node.nunique - 1)) |>\n",
    "                    ungroup() |>\n",
    "                    select(Freq) |>\n",
    "                    deframe()\n",
    "\n",
    "    dataset.prob <- prod(numerator / denominator)\n",
    "\n",
    "    return(dataset.prob)\n",
    "\n",
    "}"
   ]
  },
  {
   "cell_type": "markdown",
   "metadata": {},
   "source": [
    "<a id='sec1.C'></a>\n",
    "### **1.C** $\\texttt{log.f}$"
   ]
  },
  {
   "cell_type": "markdown",
   "metadata": {},
   "source": [
    "Note that:\n",
    "\n",
    "$$\n",
    "\\log(n!) = \\log \\left( \\prod_{x=1}^n x \\right) = \\sum_{x=1}^n \\log(x)\n",
    "$$\n",
    "\n",
    "Therefore:\n",
    "\n",
    "$$\n",
    "\\log(f) = \\log \\left( \\prod_{j=1}^{q_i} f_j \\right) = \\sum_{j=1}^{q_i} \\log(f_j)\n",
    "$$\n",
    "\n",
    "where:\n",
    "\n",
    "$$\n",
    "\\log(f_j) =\n",
    "\\log \\left[ \\frac{(r_i - 1)! \\prod_{k=1}^{r_i} \\alpha_{ijk}!}{(N_{ij} + r_i - 1)!} \\right] =\n",
    "\\log \\left[ \\left( r_i - 1 \\right)! \\right] + \\log \\left[ \\prod_{k=1}^{r_i} \\alpha_{ijk}! \\right] - \\log \\left[ \\left( N_{ij} + r_i - 1 \\right)! \\right] =\n",
    "\\sum_{x=1}^{r_i - 1} \\log(x) + \\sum_{k=1}^{r_i} \\sum_{y=1}^{\\alpha_{ijk}} \\log(y) - \\sum_{z=1}^{N_{ij} + r_i - 1} \\log(z) = \\\\\n",
    "= A + B - C\n",
    "$$"
   ]
  },
  {
   "cell_type": "code",
   "execution_count": 4,
   "metadata": {
    "vscode": {
     "languageId": "r"
    }
   },
   "outputs": [],
   "source": [
    "log.f <- function(node, parents, dataset) {\n",
    "\n",
    "    node.nunique <- dataset[node] |>\n",
    "                        unique() |>\n",
    "                        nrow()\n",
    "\n",
    "    contingency_table <- dataset[c(node, parents)] |>\n",
    "                            table() |>\n",
    "                            as.data.frame() |>\n",
    "                            as_tibble() |>\n",
    "                            filter(Freq > 0)\n",
    "\n",
    "    A <- 1:(node.nunique - 1) |>\n",
    "            log() |>\n",
    "            sum()\n",
    "\n",
    "    B <- contingency_table |>\n",
    "            rowwise() |>\n",
    "            mutate(Freq = ((1:Freq) |> log() |> sum())) |>\n",
    "            ungroup() |>\n",
    "            group_by_at(parents) |>\n",
    "            summarise(Freq = sum(Freq), .groups='drop_last') |>\n",
    "            ungroup() |>\n",
    "            select(Freq) |>\n",
    "            deframe()\n",
    "\n",
    "    C <- contingency_table |>\n",
    "            group_by_at(parents) |>\n",
    "            summarise(Freq = sum(Freq), .groups='drop_last') |>\n",
    "            ungroup() |>\n",
    "            rowwise() |>\n",
    "            mutate(Freq = ((1:(Freq + node.nunique - 1)) |> log() |> sum())) |>\n",
    "            ungroup() |>\n",
    "            select(Freq) |>\n",
    "            deframe()\n",
    "\n",
    "    dataset.log.prob <- sum(A + B - C)\n",
    "    \n",
    "    return(dataset.log.prob)\n",
    "\n",
    "}"
   ]
  },
  {
   "cell_type": "markdown",
   "metadata": {},
   "source": [
    "<a id='sec1.D'></a>\n",
    "### **1.D** $\\texttt{k2.iter}$"
   ]
  },
  {
   "cell_type": "code",
   "execution_count": 5,
   "metadata": {
    "vscode": {
     "languageId": "r"
    }
   },
   "outputs": [],
   "source": [
    "k2.iter <- function(dataset, parents.nmax, f, k2, n.iter=1, seed=1) {\n",
    "\n",
    "    tic <- Sys.time()\n",
    "    set.seed(seed)\n",
    "\n",
    "    n.iter     <- max(n.iter, 1)\n",
    "    best.score <- -Inf\n",
    "\n",
    "    for (i in 1:n.iter) {\n",
    "\n",
    "        cat('Running iteration #', i, '...')\n",
    "        flush.console()\n",
    "\n",
    "        nodes.order <- if (i == 1) 1:ncol(dataset) else sample(1:ncol(dataset))\n",
    "        result      <- k2(dataset[nodes.order], parents.nmax, f)\n",
    "\n",
    "        if (result$score > best.score) {\n",
    "\n",
    "            best.dag   <- result$dag\n",
    "            best.score <- result$score\n",
    "\n",
    "        }\n",
    "\n",
    "        cat(' DONE\\n')\n",
    "        flush.console()\n",
    "\n",
    "    }\n",
    "\n",
    "    toc <- Sys.time()\n",
    "    cat('\\nTotal execution time:', difftime(toc, tic, units='secs'), 's')\n",
    "\n",
    "    return(list('dag'=best.dag, 'score'=best.score))\n",
    "\n",
    "}"
   ]
  },
  {
   "cell_type": "markdown",
   "metadata": {},
   "source": [
    "<a id='sec2'></a>\n",
    "## **2** - Test of the implementation"
   ]
  },
  {
   "cell_type": "markdown",
   "metadata": {},
   "source": [
    "<a id='sec2.A'></a>\n",
    "### **2.A** *CH93* [[3]](#ref3)"
   ]
  },
  {
   "cell_type": "code",
   "execution_count": 6,
   "metadata": {
    "vscode": {
     "languageId": "r"
    }
   },
   "outputs": [
    {
     "data": {
      "text/html": [
       "<table class=\"dataframe\">\n",
       "<caption>A tibble: 10 × 3</caption>\n",
       "<thead>\n",
       "\t<tr><th scope=col>x1</th><th scope=col>x2</th><th scope=col>x3</th></tr>\n",
       "\t<tr><th scope=col>&lt;dbl&gt;</th><th scope=col>&lt;dbl&gt;</th><th scope=col>&lt;dbl&gt;</th></tr>\n",
       "</thead>\n",
       "<tbody>\n",
       "\t<tr><td>1</td><td>0</td><td>0</td></tr>\n",
       "\t<tr><td>1</td><td>1</td><td>1</td></tr>\n",
       "\t<tr><td>0</td><td>0</td><td>1</td></tr>\n",
       "\t<tr><td>1</td><td>1</td><td>1</td></tr>\n",
       "\t<tr><td>0</td><td>0</td><td>0</td></tr>\n",
       "\t<tr><td>0</td><td>1</td><td>1</td></tr>\n",
       "\t<tr><td>1</td><td>1</td><td>1</td></tr>\n",
       "\t<tr><td>0</td><td>0</td><td>0</td></tr>\n",
       "\t<tr><td>1</td><td>1</td><td>1</td></tr>\n",
       "\t<tr><td>0</td><td>0</td><td>0</td></tr>\n",
       "</tbody>\n",
       "</table>\n"
      ],
      "text/latex": [
       "A tibble: 10 × 3\n",
       "\\begin{tabular}{lll}\n",
       " x1 & x2 & x3\\\\\n",
       " <dbl> & <dbl> & <dbl>\\\\\n",
       "\\hline\n",
       "\t 1 & 0 & 0\\\\\n",
       "\t 1 & 1 & 1\\\\\n",
       "\t 0 & 0 & 1\\\\\n",
       "\t 1 & 1 & 1\\\\\n",
       "\t 0 & 0 & 0\\\\\n",
       "\t 0 & 1 & 1\\\\\n",
       "\t 1 & 1 & 1\\\\\n",
       "\t 0 & 0 & 0\\\\\n",
       "\t 1 & 1 & 1\\\\\n",
       "\t 0 & 0 & 0\\\\\n",
       "\\end{tabular}\n"
      ],
      "text/markdown": [
       "\n",
       "A tibble: 10 × 3\n",
       "\n",
       "| x1 &lt;dbl&gt; | x2 &lt;dbl&gt; | x3 &lt;dbl&gt; |\n",
       "|---|---|---|\n",
       "| 1 | 0 | 0 |\n",
       "| 1 | 1 | 1 |\n",
       "| 0 | 0 | 1 |\n",
       "| 1 | 1 | 1 |\n",
       "| 0 | 0 | 0 |\n",
       "| 0 | 1 | 1 |\n",
       "| 1 | 1 | 1 |\n",
       "| 0 | 0 | 0 |\n",
       "| 1 | 1 | 1 |\n",
       "| 0 | 0 | 0 |\n",
       "\n"
      ],
      "text/plain": [
       "   x1 x2 x3\n",
       "1  1  0  0 \n",
       "2  1  1  1 \n",
       "3  0  0  1 \n",
       "4  1  1  1 \n",
       "5  0  0  0 \n",
       "6  0  1  1 \n",
       "7  1  1  1 \n",
       "8  0  0  0 \n",
       "9  1  1  1 \n",
       "10 0  0  0 "
      ]
     },
     "metadata": {},
     "output_type": "display_data"
    }
   ],
   "source": [
    "ch93 <- tibble(\n",
    "            x1 = c(1, 1, 0, 1, 0, 0, 1, 0, 1, 0),\n",
    "            x2 = c(0, 1, 0, 1, 0, 1, 1, 0, 1, 0),\n",
    "            x3 = c(0, 1, 1, 1, 0, 1, 1, 0, 1, 0))\n",
    "ch93"
   ]
  },
  {
   "cell_type": "code",
   "execution_count": 7,
   "metadata": {
    "vscode": {
     "languageId": "r"
    }
   },
   "outputs": [
    {
     "name": "stdout",
     "output_type": "stream",
     "text": [
      "Running iteration # 1 ... DONE\n",
      "\n",
      "Total execution time: 0.2981071 s"
     ]
    },
    {
     "data": {
      "image/png": "[encoded data removed]",
      "text/plain": [
       "plot without title"
      ]
     },
     "metadata": {
      "image/png": {
       "height": 420,
       "width": 420
      }
     },
     "output_type": "display_data"
    }
   ],
   "source": [
    "ch93_net <- k2.iter(ch93, parents.nmax=2, f, k2, n.iter=1, seed=1)\n",
    "graphviz.plot(ch93_net$dag)"
   ]
  },
  {
   "cell_type": "code",
   "execution_count": 8,
   "metadata": {
    "vscode": {
     "languageId": "r"
    }
   },
   "outputs": [
    {
     "name": "stdout",
     "output_type": "stream",
     "text": [
      "Running iteration # 1 ... DONE\n",
      "\n",
      "Total execution time: 0.2670591 s"
     ]
    },
    {
     "data": {
      "image/png": "[encoded data removed]",
      "text/plain": [
       "plot without title"
      ]
     },
     "metadata": {
      "image/png": {
       "height": 420,
       "width": 420
      }
     },
     "output_type": "display_data"
    }
   ],
   "source": [
    "ch93_net <- k2.iter(ch93, parents.nmax=2, log.f, k2, n.iter=1, seed=1)\n",
    "graphviz.plot(ch93_net$dag)"
   ]
  },
  {
   "cell_type": "markdown",
   "metadata": {},
   "source": [
    "<a id='sec2.B'></a>\n",
    "### **2.B** *ASIA*"
   ]
  },
  {
   "cell_type": "code",
   "execution_count": 9,
   "metadata": {
    "vscode": {
     "languageId": "r"
    }
   },
   "outputs": [
    {
     "name": "stderr",
     "output_type": "stream",
     "text": [
      "\u001b[1mRows: \u001b[22m\u001b[34m10000\u001b[39m \u001b[1mColumns: \u001b[22m\u001b[34m8\u001b[39m\n",
      "\u001b[36m--\u001b[39m \u001b[1mColumn specification\u001b[22m \u001b[36m-----------------------------------------------------------------------------------------------\u001b[39m\n",
      "\u001b[1mDelimiter:\u001b[22m \",\"\n",
      "\u001b[31mchr\u001b[39m (8): asia, tub, smoke, lung, bronc, either, xray, dysp\n",
      "\n",
      "\u001b[36mi\u001b[39m Use `spec()` to retrieve the full column specification for this data.\n",
      "\u001b[36mi\u001b[39m Specify the column types or set `show_col_types = FALSE` to quiet this message.\n"
     ]
    },
    {
     "data": {
      "text/html": [
       "<table class=\"dataframe\">\n",
       "<caption>A tibble: 6 × 8</caption>\n",
       "<thead>\n",
       "\t<tr><th scope=col>asia</th><th scope=col>tub</th><th scope=col>smoke</th><th scope=col>lung</th><th scope=col>bronc</th><th scope=col>either</th><th scope=col>xray</th><th scope=col>dysp</th></tr>\n",
       "\t<tr><th scope=col>&lt;chr&gt;</th><th scope=col>&lt;chr&gt;</th><th scope=col>&lt;chr&gt;</th><th scope=col>&lt;chr&gt;</th><th scope=col>&lt;chr&gt;</th><th scope=col>&lt;chr&gt;</th><th scope=col>&lt;chr&gt;</th><th scope=col>&lt;chr&gt;</th></tr>\n",
       "</thead>\n",
       "<tbody>\n",
       "\t<tr><td>no</td><td>no</td><td>no </td><td>no</td><td>no </td><td>no</td><td>no</td><td>yes</td></tr>\n",
       "\t<tr><td>no</td><td>no</td><td>yes</td><td>no</td><td>no </td><td>no</td><td>no</td><td>no </td></tr>\n",
       "\t<tr><td>no</td><td>no</td><td>no </td><td>no</td><td>no </td><td>no</td><td>no</td><td>no </td></tr>\n",
       "\t<tr><td>no</td><td>no</td><td>yes</td><td>no</td><td>no </td><td>no</td><td>no</td><td>no </td></tr>\n",
       "\t<tr><td>no</td><td>no</td><td>yes</td><td>no</td><td>yes</td><td>no</td><td>no</td><td>yes</td></tr>\n",
       "\t<tr><td>no</td><td>no</td><td>yes</td><td>no</td><td>no </td><td>no</td><td>no</td><td>no </td></tr>\n",
       "</tbody>\n",
       "</table>\n"
      ],
      "text/latex": [
       "A tibble: 6 × 8\n",
       "\\begin{tabular}{llllllll}\n",
       " asia & tub & smoke & lung & bronc & either & xray & dysp\\\\\n",
       " <chr> & <chr> & <chr> & <chr> & <chr> & <chr> & <chr> & <chr>\\\\\n",
       "\\hline\n",
       "\t no & no & no  & no & no  & no & no & yes\\\\\n",
       "\t no & no & yes & no & no  & no & no & no \\\\\n",
       "\t no & no & no  & no & no  & no & no & no \\\\\n",
       "\t no & no & yes & no & no  & no & no & no \\\\\n",
       "\t no & no & yes & no & yes & no & no & yes\\\\\n",
       "\t no & no & yes & no & no  & no & no & no \\\\\n",
       "\\end{tabular}\n"
      ],
      "text/markdown": [
       "\n",
       "A tibble: 6 × 8\n",
       "\n",
       "| asia &lt;chr&gt; | tub &lt;chr&gt; | smoke &lt;chr&gt; | lung &lt;chr&gt; | bronc &lt;chr&gt; | either &lt;chr&gt; | xray &lt;chr&gt; | dysp &lt;chr&gt; |\n",
       "|---|---|---|---|---|---|---|---|\n",
       "| no | no | no  | no | no  | no | no | yes |\n",
       "| no | no | yes | no | no  | no | no | no  |\n",
       "| no | no | no  | no | no  | no | no | no  |\n",
       "| no | no | yes | no | no  | no | no | no  |\n",
       "| no | no | yes | no | yes | no | no | yes |\n",
       "| no | no | yes | no | no  | no | no | no  |\n",
       "\n"
      ],
      "text/plain": [
       "  asia tub smoke lung bronc either xray dysp\n",
       "1 no   no  no    no   no    no     no   yes \n",
       "2 no   no  yes   no   no    no     no   no  \n",
       "3 no   no  no    no   no    no     no   no  \n",
       "4 no   no  yes   no   no    no     no   no  \n",
       "5 no   no  yes   no   yes   no     no   yes \n",
       "6 no   no  yes   no   no    no     no   no  "
      ]
     },
     "metadata": {},
     "output_type": "display_data"
    }
   ],
   "source": [
    "asia <- read_csv('https://www.ccd.pitt.edu/wiki/images/ASIA10k.csv')\n",
    "head(asia)"
   ]
  },
  {
   "cell_type": "code",
   "execution_count": 10,
   "metadata": {
    "vscode": {
     "languageId": "r"
    }
   },
   "outputs": [
    {
     "name": "stdout",
     "output_type": "stream",
     "text": [
      "Running iteration # 1 ... DONE\n",
      "Running iteration # 2 ... DONE\n",
      "Running iteration # 3 ... DONE\n",
      "\n",
      "Total execution time: 6.83021 s"
     ]
    },
    {
     "data": {
      "image/png": "[encoded data removed]",
      "text/plain": [
       "plot without title"
      ]
     },
     "metadata": {
      "image/png": {
       "height": 420,
       "width": 420
      }
     },
     "output_type": "display_data"
    }
   ],
   "source": [
    "asia_net <- k2.iter(head(asia, 150), parents.nmax=2, f, k2, n.iter=3, seed=1)\n",
    "graphviz.plot(asia_net$dag)"
   ]
  },
  {
   "cell_type": "code",
   "execution_count": 11,
   "metadata": {
    "vscode": {
     "languageId": "r"
    }
   },
   "outputs": [
    {
     "name": "stdout",
     "output_type": "stream",
     "text": [
      "Running iteration # 1 ... DONE\n",
      "Running iteration # 2 ... DONE\n",
      "Running iteration # 3 ... DONE\n",
      "\n",
      "Total execution time: 6.98152 s"
     ]
    },
    {
     "data": {
      "image/png": "[encoded data removed]",
      "text/plain": [
       "plot without title"
      ]
     },
     "metadata": {
      "image/png": {
       "height": 420,
       "width": 420
      }
     },
     "output_type": "display_data"
    }
   ],
   "source": [
    "asia_net <- k2.iter(asia, parents.nmax=2, log.f, k2, n.iter=3, seed=1)\n",
    "graphviz.plot(asia_net$dag)"
   ]
  },
  {
   "cell_type": "markdown",
   "metadata": {},
   "source": [
    "<a id='sec2.C'></a>\n",
    "### **2.C** *SACHS*"
   ]
  },
  {
   "cell_type": "code",
   "execution_count": 12,
   "metadata": {
    "vscode": {
     "languageId": "r"
    }
   },
   "outputs": [
    {
     "name": "stderr",
     "output_type": "stream",
     "text": [
      "\u001b[1mRows: \u001b[22m\u001b[34m10000\u001b[39m \u001b[1mColumns: \u001b[22m\u001b[34m11\u001b[39m\n",
      "\u001b[36m--\u001b[39m \u001b[1mColumn specification\u001b[22m \u001b[36m-----------------------------------------------------------------------------------------------\u001b[39m\n",
      "\u001b[1mDelimiter:\u001b[22m \",\"\n",
      "\u001b[32mdbl\u001b[39m (11): Akt, Erk, Jnk, Mek, P38, PIP2, PIP3, PKA, PKC, Plcg, Raf\n",
      "\n",
      "\u001b[36mi\u001b[39m Use `spec()` to retrieve the full column specification for this data.\n",
      "\u001b[36mi\u001b[39m Specify the column types or set `show_col_types = FALSE` to quiet this message.\n"
     ]
    },
    {
     "data": {
      "text/html": [
       "<table class=\"dataframe\">\n",
       "<caption>A tibble: 6 × 11</caption>\n",
       "<thead>\n",
       "\t<tr><th scope=col>PKC</th><th scope=col>Plcg</th><th scope=col>PKA</th><th scope=col>PIP3</th><th scope=col>Raf</th><th scope=col>Jnk</th><th scope=col>P38</th><th scope=col>PIP2</th><th scope=col>Mek</th><th scope=col>Erk</th><th scope=col>Akt</th></tr>\n",
       "\t<tr><th scope=col>&lt;dbl&gt;</th><th scope=col>&lt;dbl&gt;</th><th scope=col>&lt;dbl&gt;</th><th scope=col>&lt;dbl&gt;</th><th scope=col>&lt;dbl&gt;</th><th scope=col>&lt;dbl&gt;</th><th scope=col>&lt;dbl&gt;</th><th scope=col>&lt;dbl&gt;</th><th scope=col>&lt;dbl&gt;</th><th scope=col>&lt;dbl&gt;</th><th scope=col>&lt;dbl&gt;</th></tr>\n",
       "</thead>\n",
       "<tbody>\n",
       "\t<tr><td>3</td><td>1</td><td>2</td><td>2</td><td>1</td><td>1</td><td>1</td><td>1</td><td>1</td><td>1</td><td>1</td></tr>\n",
       "\t<tr><td>2</td><td>1</td><td>2</td><td>2</td><td>1</td><td>1</td><td>2</td><td>1</td><td>1</td><td>2</td><td>1</td></tr>\n",
       "\t<tr><td>1</td><td>3</td><td>1</td><td>2</td><td>3</td><td>3</td><td>3</td><td>2</td><td>1</td><td>1</td><td>1</td></tr>\n",
       "\t<tr><td>1</td><td>1</td><td>3</td><td>3</td><td>2</td><td>1</td><td>1</td><td>1</td><td>1</td><td>2</td><td>1</td></tr>\n",
       "\t<tr><td>2</td><td>2</td><td>2</td><td>3</td><td>1</td><td>1</td><td>1</td><td>1</td><td>1</td><td>2</td><td>1</td></tr>\n",
       "\t<tr><td>2</td><td>1</td><td>2</td><td>1</td><td>2</td><td>2</td><td>1</td><td>1</td><td>2</td><td>2</td><td>1</td></tr>\n",
       "</tbody>\n",
       "</table>\n"
      ],
      "text/latex": [
       "A tibble: 6 × 11\n",
       "\\begin{tabular}{lllllllllll}\n",
       " PKC & Plcg & PKA & PIP3 & Raf & Jnk & P38 & PIP2 & Mek & Erk & Akt\\\\\n",
       " <dbl> & <dbl> & <dbl> & <dbl> & <dbl> & <dbl> & <dbl> & <dbl> & <dbl> & <dbl> & <dbl>\\\\\n",
       "\\hline\n",
       "\t 3 & 1 & 2 & 2 & 1 & 1 & 1 & 1 & 1 & 1 & 1\\\\\n",
       "\t 2 & 1 & 2 & 2 & 1 & 1 & 2 & 1 & 1 & 2 & 1\\\\\n",
       "\t 1 & 3 & 1 & 2 & 3 & 3 & 3 & 2 & 1 & 1 & 1\\\\\n",
       "\t 1 & 1 & 3 & 3 & 2 & 1 & 1 & 1 & 1 & 2 & 1\\\\\n",
       "\t 2 & 2 & 2 & 3 & 1 & 1 & 1 & 1 & 1 & 2 & 1\\\\\n",
       "\t 2 & 1 & 2 & 1 & 2 & 2 & 1 & 1 & 2 & 2 & 1\\\\\n",
       "\\end{tabular}\n"
      ],
      "text/markdown": [
       "\n",
       "A tibble: 6 × 11\n",
       "\n",
       "| PKC &lt;dbl&gt; | Plcg &lt;dbl&gt; | PKA &lt;dbl&gt; | PIP3 &lt;dbl&gt; | Raf &lt;dbl&gt; | Jnk &lt;dbl&gt; | P38 &lt;dbl&gt; | PIP2 &lt;dbl&gt; | Mek &lt;dbl&gt; | Erk &lt;dbl&gt; | Akt &lt;dbl&gt; |\n",
       "|---|---|---|---|---|---|---|---|---|---|---|\n",
       "| 3 | 1 | 2 | 2 | 1 | 1 | 1 | 1 | 1 | 1 | 1 |\n",
       "| 2 | 1 | 2 | 2 | 1 | 1 | 2 | 1 | 1 | 2 | 1 |\n",
       "| 1 | 3 | 1 | 2 | 3 | 3 | 3 | 2 | 1 | 1 | 1 |\n",
       "| 1 | 1 | 3 | 3 | 2 | 1 | 1 | 1 | 1 | 2 | 1 |\n",
       "| 2 | 2 | 2 | 3 | 1 | 1 | 1 | 1 | 1 | 2 | 1 |\n",
       "| 2 | 1 | 2 | 1 | 2 | 2 | 1 | 1 | 2 | 2 | 1 |\n",
       "\n"
      ],
      "text/plain": [
       "  PKC Plcg PKA PIP3 Raf Jnk P38 PIP2 Mek Erk Akt\n",
       "1 3   1    2   2    1   1   1   1    1   1   1  \n",
       "2 2   1    2   2    1   1   2   1    1   2   1  \n",
       "3 1   3    1   2    3   3   3   2    1   1   1  \n",
       "4 1   1    3   3    2   1   1   1    1   2   1  \n",
       "5 2   2    2   3    1   1   1   1    1   2   1  \n",
       "6 2   1    2   1    2   2   1   1    2   2   1  "
      ]
     },
     "metadata": {},
     "output_type": "display_data"
    }
   ],
   "source": [
    "sachs <- read_csv('https://www.ccd.pitt.edu/wiki/images/SACHS10k.csv')\n",
    "sachs <- sachs |> select(PKC, Plcg, PKA, PIP3, Raf, Jnk, P38, PIP2, Mek, Erk, Akt)\n",
    "head(sachs)"
   ]
  },
  {
   "cell_type": "code",
   "execution_count": 13,
   "metadata": {
    "vscode": {
     "languageId": "r"
    }
   },
   "outputs": [
    {
     "name": "stdout",
     "output_type": "stream",
     "text": [
      "Running iteration # 1 ... DONE\n",
      "Running iteration # 2 ... DONE\n",
      "Running iteration # 3 ... DONE\n",
      "\n",
      "Total execution time: 16.92994 s"
     ]
    },
    {
     "data": {
      "image/png": "[encoded data removed]",
      "text/plain": [
       "plot without title"
      ]
     },
     "metadata": {
      "image/png": {
       "height": 420,
       "width": 420
      }
     },
     "output_type": "display_data"
    }
   ],
   "source": [
    "sachs_net <- k2.iter(head(sachs, 150), parents.nmax=3, f, k2, n.iter=3, seed=1)\n",
    "graphviz.plot(sachs_net$dag)"
   ]
  },
  {
   "cell_type": "code",
   "execution_count": 14,
   "metadata": {
    "vscode": {
     "languageId": "r"
    }
   },
   "outputs": [
    {
     "name": "stdout",
     "output_type": "stream",
     "text": [
      "Running iteration # 1 ... DONE\n",
      "Running iteration # 2 ... DONE\n",
      "Running iteration # 3 ... DONE\n",
      "\n",
      "Total execution time: 30.11006 s"
     ]
    },
    {
     "data": {
      "image/png": "[encoded data removed]",
      "text/plain": [
       "plot without title"
      ]
     },
     "metadata": {
      "image/png": {
       "height": 420,
       "width": 420
      }
     },
     "output_type": "display_data"
    }
   ],
   "source": [
    "sachs_net <- k2.iter(sachs, parents.nmax=3, log.f, k2, n.iter=3, seed=1)\n",
    "graphviz.plot(sachs_net$dag)"
   ]
  },
  {
   "cell_type": "markdown",
   "metadata": {},
   "source": [
    "<a id='sec2.D'></a>\n",
    "### **2.D** *CHILD*"
   ]
  },
  {
   "cell_type": "code",
   "execution_count": 15,
   "metadata": {
    "vscode": {
     "languageId": "r"
    }
   },
   "outputs": [
    {
     "name": "stderr",
     "output_type": "stream",
     "text": [
      "\u001b[1mRows: \u001b[22m\u001b[34m10000\u001b[39m \u001b[1mColumns: \u001b[22m\u001b[34m20\u001b[39m\n",
      "\u001b[36m--\u001b[39m \u001b[1mColumn specification\u001b[22m \u001b[36m-----------------------------------------------------------------------------------------------\u001b[39m\n",
      "\u001b[1mDelimiter:\u001b[22m \",\"\n",
      "\u001b[31mchr\u001b[39m (20): BirthAsphyxia, HypDistrib, HypoxiaInO2, CO2, ChestXray, Grunting, ...\n",
      "\n",
      "\u001b[36mi\u001b[39m Use `spec()` to retrieve the full column specification for this data.\n",
      "\u001b[36mi\u001b[39m Specify the column types or set `show_col_types = FALSE` to quiet this message.\n"
     ]
    },
    {
     "data": {
      "text/html": [
       "<table class=\"dataframe\">\n",
       "<caption>A tibble: 6 × 20</caption>\n",
       "<thead>\n",
       "\t<tr><th scope=col>BirthAsphyxia</th><th scope=col>Disease</th><th scope=col>Sick</th><th scope=col>DuctFlow</th><th scope=col>CardiacMixing</th><th scope=col>LungParench</th><th scope=col>LungFlow</th><th scope=col>LVH</th><th scope=col>Age</th><th scope=col>Grunting</th><th scope=col>HypDistrib</th><th scope=col>HypoxiaInO2</th><th scope=col>CO2</th><th scope=col>ChestXray</th><th scope=col>LVHreport</th><th scope=col>GruntingReport</th><th scope=col>LowerBodyO2</th><th scope=col>RUQO2</th><th scope=col>CO2Report</th><th scope=col>XrayReport</th></tr>\n",
       "\t<tr><th scope=col>&lt;chr&gt;</th><th scope=col>&lt;chr&gt;</th><th scope=col>&lt;chr&gt;</th><th scope=col>&lt;chr&gt;</th><th scope=col>&lt;chr&gt;</th><th scope=col>&lt;chr&gt;</th><th scope=col>&lt;chr&gt;</th><th scope=col>&lt;chr&gt;</th><th scope=col>&lt;chr&gt;</th><th scope=col>&lt;chr&gt;</th><th scope=col>&lt;chr&gt;</th><th scope=col>&lt;chr&gt;</th><th scope=col>&lt;chr&gt;</th><th scope=col>&lt;chr&gt;</th><th scope=col>&lt;chr&gt;</th><th scope=col>&lt;chr&gt;</th><th scope=col>&lt;chr&gt;</th><th scope=col>&lt;chr&gt;</th><th scope=col>&lt;chr&gt;</th><th scope=col>&lt;chr&gt;</th></tr>\n",
       "</thead>\n",
       "<tbody>\n",
       "\t<tr><td>no</td><td>PAIVS </td><td>yes</td><td>Lt_to_Rt</td><td>Complete</td><td><span style=white-space:pre-wrap>Normal  </span></td><td><span style=white-space:pre-wrap>Low   </span></td><td>no </td><td>0-3_days </td><td>no </td><td>Equal</td><td>Moderate</td><td>Normal</td><td>Oligaemic</td><td>no </td><td>no </td><td>5-12</td><td>5-12</td><td>&gt;=7.5</td><td>Grd_Glass </td></tr>\n",
       "\t<tr><td>no</td><td><span style=white-space:pre-wrap>TGA   </span></td><td>yes</td><td><span style=white-space:pre-wrap>None    </span></td><td>Transp. </td><td>Abnormal</td><td><span style=white-space:pre-wrap>Low   </span></td><td>no </td><td>0-3_days </td><td>yes</td><td>Equal</td><td><span style=white-space:pre-wrap>Severe  </span></td><td>Normal</td><td>Asy/Patch</td><td>no </td><td>no </td><td>12+ </td><td><span style=white-space:pre-wrap>&lt;5  </span></td><td>&lt;7.5 </td><td>Asy/Patchy</td></tr>\n",
       "\t<tr><td>no</td><td><span style=white-space:pre-wrap>TGA   </span></td><td>yes</td><td><span style=white-space:pre-wrap>None    </span></td><td>Transp. </td><td><span style=white-space:pre-wrap>Normal  </span></td><td><span style=white-space:pre-wrap>High  </span></td><td>yes</td><td>0-3_days </td><td>no </td><td>Equal</td><td><span style=white-space:pre-wrap>Severe  </span></td><td>Normal</td><td><span style=white-space:pre-wrap>Normal   </span></td><td>yes</td><td>no </td><td>12+ </td><td>5-12</td><td>&lt;7.5 </td><td><span style=white-space:pre-wrap>Normal    </span></td></tr>\n",
       "\t<tr><td>no</td><td><span style=white-space:pre-wrap>Lung  </span></td><td>yes</td><td><span style=white-space:pre-wrap>None    </span></td><td><span style=white-space:pre-wrap>Mild    </span></td><td>Abnormal</td><td>Normal</td><td>no </td><td>0-3_days </td><td>yes</td><td>Equal</td><td>Moderate</td><td>Normal</td><td>Asy/Patch</td><td>no </td><td>yes</td><td>5-12</td><td>5-12</td><td>&gt;=7.5</td><td>Asy/Patchy</td></tr>\n",
       "\t<tr><td>no</td><td>Fallot</td><td>no </td><td>Lt_to_Rt</td><td>Complete</td><td><span style=white-space:pre-wrap>Normal  </span></td><td><span style=white-space:pre-wrap>Low   </span></td><td>no </td><td>4-10_days</td><td>no </td><td>Equal</td><td>Moderate</td><td>Normal</td><td><span style=white-space:pre-wrap>Normal   </span></td><td>no </td><td>no </td><td>5-12</td><td>5-12</td><td>&lt;7.5 </td><td><span style=white-space:pre-wrap>Normal    </span></td></tr>\n",
       "\t<tr><td>no</td><td>Fallot</td><td>no </td><td>Lt_to_Rt</td><td><span style=white-space:pre-wrap>Mild    </span></td><td><span style=white-space:pre-wrap>Normal  </span></td><td><span style=white-space:pre-wrap>Low   </span></td><td>no </td><td>4-10_days</td><td>no </td><td>Equal</td><td>Moderate</td><td>Normal</td><td>Oligaemic</td><td>no </td><td>yes</td><td>5-12</td><td><span style=white-space:pre-wrap>&lt;5  </span></td><td>&lt;7.5 </td><td>Oligaemic </td></tr>\n",
       "</tbody>\n",
       "</table>\n"
      ],
      "text/latex": [
       "A tibble: 6 × 20\n",
       "\\begin{tabular}{llllllllllllllllllll}\n",
       " BirthAsphyxia & Disease & Sick & DuctFlow & CardiacMixing & LungParench & LungFlow & LVH & Age & Grunting & HypDistrib & HypoxiaInO2 & CO2 & ChestXray & LVHreport & GruntingReport & LowerBodyO2 & RUQO2 & CO2Report & XrayReport\\\\\n",
       " <chr> & <chr> & <chr> & <chr> & <chr> & <chr> & <chr> & <chr> & <chr> & <chr> & <chr> & <chr> & <chr> & <chr> & <chr> & <chr> & <chr> & <chr> & <chr> & <chr>\\\\\n",
       "\\hline\n",
       "\t no & PAIVS  & yes & Lt\\_to\\_Rt & Complete & Normal   & Low    & no  & 0-3\\_days  & no  & Equal & Moderate & Normal & Oligaemic & no  & no  & 5-12 & 5-12 & >=7.5 & Grd\\_Glass \\\\\n",
       "\t no & TGA    & yes & None     & Transp.  & Abnormal & Low    & no  & 0-3\\_days  & yes & Equal & Severe   & Normal & Asy/Patch & no  & no  & 12+  & <5   & <7.5  & Asy/Patchy\\\\\n",
       "\t no & TGA    & yes & None     & Transp.  & Normal   & High   & yes & 0-3\\_days  & no  & Equal & Severe   & Normal & Normal    & yes & no  & 12+  & 5-12 & <7.5  & Normal    \\\\\n",
       "\t no & Lung   & yes & None     & Mild     & Abnormal & Normal & no  & 0-3\\_days  & yes & Equal & Moderate & Normal & Asy/Patch & no  & yes & 5-12 & 5-12 & >=7.5 & Asy/Patchy\\\\\n",
       "\t no & Fallot & no  & Lt\\_to\\_Rt & Complete & Normal   & Low    & no  & 4-10\\_days & no  & Equal & Moderate & Normal & Normal    & no  & no  & 5-12 & 5-12 & <7.5  & Normal    \\\\\n",
       "\t no & Fallot & no  & Lt\\_to\\_Rt & Mild     & Normal   & Low    & no  & 4-10\\_days & no  & Equal & Moderate & Normal & Oligaemic & no  & yes & 5-12 & <5   & <7.5  & Oligaemic \\\\\n",
       "\\end{tabular}\n"
      ],
      "text/markdown": [
       "\n",
       "A tibble: 6 × 20\n",
       "\n",
       "| BirthAsphyxia &lt;chr&gt; | Disease &lt;chr&gt; | Sick &lt;chr&gt; | DuctFlow &lt;chr&gt; | CardiacMixing &lt;chr&gt; | LungParench &lt;chr&gt; | LungFlow &lt;chr&gt; | LVH &lt;chr&gt; | Age &lt;chr&gt; | Grunting &lt;chr&gt; | HypDistrib &lt;chr&gt; | HypoxiaInO2 &lt;chr&gt; | CO2 &lt;chr&gt; | ChestXray &lt;chr&gt; | LVHreport &lt;chr&gt; | GruntingReport &lt;chr&gt; | LowerBodyO2 &lt;chr&gt; | RUQO2 &lt;chr&gt; | CO2Report &lt;chr&gt; | XrayReport &lt;chr&gt; |\n",
       "|---|---|---|---|---|---|---|---|---|---|---|---|---|---|---|---|---|---|---|---|\n",
       "| no | PAIVS  | yes | Lt_to_Rt | Complete | Normal   | Low    | no  | 0-3_days  | no  | Equal | Moderate | Normal | Oligaemic | no  | no  | 5-12 | 5-12 | &gt;=7.5 | Grd_Glass  |\n",
       "| no | TGA    | yes | None     | Transp.  | Abnormal | Low    | no  | 0-3_days  | yes | Equal | Severe   | Normal | Asy/Patch | no  | no  | 12+  | &lt;5   | &lt;7.5  | Asy/Patchy |\n",
       "| no | TGA    | yes | None     | Transp.  | Normal   | High   | yes | 0-3_days  | no  | Equal | Severe   | Normal | Normal    | yes | no  | 12+  | 5-12 | &lt;7.5  | Normal     |\n",
       "| no | Lung   | yes | None     | Mild     | Abnormal | Normal | no  | 0-3_days  | yes | Equal | Moderate | Normal | Asy/Patch | no  | yes | 5-12 | 5-12 | &gt;=7.5 | Asy/Patchy |\n",
       "| no | Fallot | no  | Lt_to_Rt | Complete | Normal   | Low    | no  | 4-10_days | no  | Equal | Moderate | Normal | Normal    | no  | no  | 5-12 | 5-12 | &lt;7.5  | Normal     |\n",
       "| no | Fallot | no  | Lt_to_Rt | Mild     | Normal   | Low    | no  | 4-10_days | no  | Equal | Moderate | Normal | Oligaemic | no  | yes | 5-12 | &lt;5   | &lt;7.5  | Oligaemic  |\n",
       "\n"
      ],
      "text/plain": [
       "  BirthAsphyxia Disease Sick DuctFlow CardiacMixing LungParench LungFlow LVH\n",
       "1 no            PAIVS   yes  Lt_to_Rt Complete      Normal      Low      no \n",
       "2 no            TGA     yes  None     Transp.       Abnormal    Low      no \n",
       "3 no            TGA     yes  None     Transp.       Normal      High     yes\n",
       "4 no            Lung    yes  None     Mild          Abnormal    Normal   no \n",
       "5 no            Fallot  no   Lt_to_Rt Complete      Normal      Low      no \n",
       "6 no            Fallot  no   Lt_to_Rt Mild          Normal      Low      no \n",
       "  Age       Grunting HypDistrib HypoxiaInO2 CO2    ChestXray LVHreport\n",
       "1 0-3_days  no       Equal      Moderate    Normal Oligaemic no       \n",
       "2 0-3_days  yes      Equal      Severe      Normal Asy/Patch no       \n",
       "3 0-3_days  no       Equal      Severe      Normal Normal    yes      \n",
       "4 0-3_days  yes      Equal      Moderate    Normal Asy/Patch no       \n",
       "5 4-10_days no       Equal      Moderate    Normal Normal    no       \n",
       "6 4-10_days no       Equal      Moderate    Normal Oligaemic no       \n",
       "  GruntingReport LowerBodyO2 RUQO2 CO2Report XrayReport\n",
       "1 no             5-12        5-12  >=7.5     Grd_Glass \n",
       "2 no             12+         <5    <7.5      Asy/Patchy\n",
       "3 no             12+         5-12  <7.5      Normal    \n",
       "4 yes            5-12        5-12  >=7.5     Asy/Patchy\n",
       "5 no             5-12        5-12  <7.5      Normal    \n",
       "6 yes            5-12        <5    <7.5      Oligaemic "
      ]
     },
     "metadata": {},
     "output_type": "display_data"
    }
   ],
   "source": [
    "child <- read_csv('https://www.ccd.pitt.edu/wiki/images/CHILD10k.csv')\n",
    "child <- child |> select(BirthAsphyxia, Disease, Sick, DuctFlow, CardiacMixing, LungParench, LungFlow, LVH, Age, Grunting, HypDistrib, HypoxiaInO2, CO2, ChestXray, LVHreport, GruntingReport, LowerBodyO2, RUQO2, CO2Report, XrayReport)\n",
    "head(child)"
   ]
  },
  {
   "cell_type": "code",
   "execution_count": 16,
   "metadata": {
    "vscode": {
     "languageId": "r"
    }
   },
   "outputs": [
    {
     "name": "stdout",
     "output_type": "stream",
     "text": [
      "Running iteration # 1 ... DONE\n",
      "Running iteration # 2 ... DONE\n",
      "Running iteration # 3 ... DONE\n",
      "\n",
      "Total execution time: 43.60524 s"
     ]
    },
    {
     "data": {
      "image/png": "[encoded data removed]",
      "text/plain": [
       "plot without title"
      ]
     },
     "metadata": {
      "image/png": {
       "height": 420,
       "width": 420
      }
     },
     "output_type": "display_data"
    }
   ],
   "source": [
    "child_net <- k2.iter(head(child, 150), parents.nmax=2, f, k2, n.iter=3, seed=1)\n",
    "graphviz.plot(child_net$dag)"
   ]
  },
  {
   "cell_type": "code",
   "execution_count": 17,
   "metadata": {
    "vscode": {
     "languageId": "r"
    }
   },
   "outputs": [
    {
     "name": "stdout",
     "output_type": "stream",
     "text": [
      "Running iteration # 1 ... DONE\n",
      "Running iteration # 2 ... DONE\n",
      "Running iteration # 3 ... DONE\n",
      "\n",
      "Total execution time: 49.46964 s"
     ]
    },
    {
     "data": {
      "image/png": "[encoded data removed]",
      "text/plain": [
       "plot without title"
      ]
     },
     "metadata": {
      "image/png": {
       "height": 420,
       "width": 420
      }
     },
     "output_type": "display_data"
    }
   ],
   "source": [
    "child_net <- k2.iter(child, parents.nmax=2, log.f, k2, n.iter=3, seed=1)\n",
    "graphviz.plot(child_net$dag)"
   ]
  },
  {
   "cell_type": "markdown",
   "metadata": {},
   "source": [
    "## **References**\n",
    "\n",
    "<a id='ref1'></a>\n",
    "**[1]** M. Scutari and J. B. Denis, *Bayesian Networks*, CRC Press, 2022, Taylor and Francis Group\n",
    "\n",
    "<a id='ref2'></a>\n",
    "**[2]** G. F. Cooper and E. Herskovits, *A Bayesian Method for the Induction of Probabilistic Networks from Data*, Machine Learning 9, (1992) 309\n",
    "\n",
    "<a id='ref3'></a>\n",
    "**[3]** C. Ruiz, *Illustration of the K2 Algorithm for learning Bayes Net Structures*, http://web.cs.wpi.edu/~cs539/s11/Projects/k2_algorithm.pdf\n",
    "\n",
    "<a id='ref4'></a>\n",
    "**[4]** A. Franzin et al., *$\\texttt{bnstruct}$: an R package for Bayesian Network structure learning in the presence of missing data*, Bioinformatics 33(8) (2017) 1250\n",
    "\n",
    "<a id='ref5'></a>\n",
    "**[5]** F. Sambo and A. Franzin, *$\\texttt{bnstruct}$: an R package for Bayesian Network Structure Learning with missing data*, December 12, 2016"
   ]
  },
  {
   "cell_type": "markdown",
   "metadata": {},
   "source": [
    "***\n",
    "\n",
    "Coded by **Daniele Ninni**\n",
    "\n",
    "Last edited on 10 July 2022, at 17:20"
   ]
  }
 ],
 "metadata": {
  "interpreter": {
   "hash": "9b9a8b745cee97bb0a724525cf78539ed61a7c6e5f01624b7516b5e2bc30c131"
  },
  "kernelspec": {
   "display_name": "R",
   "language": "R",
   "name": "ir"
  },
  "language_info": {
   "codemirror_mode": "r",
   "file_extension": ".r",
   "mimetype": "text/x-r-source",
   "name": "R",
   "pygments_lexer": "r",
   "version": "4.1.3"
  }
 },
 "nbformat": 4,
 "nbformat_minor": 4
}
